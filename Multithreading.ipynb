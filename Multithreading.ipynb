{
 "cells": [
  {
   "cell_type": "markdown",
   "id": "4c8b1e3b-12b7-4ff1-9d6f-d650f879a9f0",
   "metadata": {},
   "source": [
    "### Q1. What is multithreading in python? Why is it used? Name the module used to handle threads in python."
   ]
  },
  {
   "cell_type": "markdown",
   "id": "cc34c57d-688e-455e-9fbf-2171cf4640de",
   "metadata": {},
   "source": [
    "Multithreading in Python refers to the concurrent execution of multiple threads within the same process. A thread is the smallest unit of processing that can be performed by an operating system, and multithreading allows a program to execute multiple threads concurrently, sharing the same resources like memory space and file descriptors.\n",
    "\n",
    "In Python, multithreading is used to achieve concurrent execution of tasks, particularly when some parts of the program can be executed independently. Multithreading is beneficial in the following scenarios:\n",
    "\n",
    "### Improved Responsiveness:\n",
    "\n",
    "When certain parts of a program involve waiting, such as reading data from a file or waiting for user input, multithreading can be used to ensure that other parts of the program remain responsive and continue processing.\n",
    "\n",
    "### Parallelism for I/O-bound Tasks:\n",
    "\n",
    "For I/O-bound tasks, such as downloading files, making network requests, or reading and writing files, multithreading can significantly improve performance by overlapping I/O operations.\n",
    "\n",
    "### Utilizing Multiple Cores:\n",
    "\n",
    "Although Python's Global Interpreter Lock (GIL) limits true parallel execution of multiple threads, multithreading can still be useful in some situations where the tasks are I/O-bound or where GIL is released during certain operations.\n",
    "\n",
    "The module used to handle threads in Python is the threading module. It provides classes and functions to create and manage threads in a Python program. The threading module is part of the Python Standard Library, and it allows you to create and start new threads, synchronize threads, and handle thread-specific operations. With the threading module, you can take advantage of multithreading and design concurrent programs in a straightforward manner."
   ]
  },
  {
   "cell_type": "markdown",
   "id": "5988bf89-e838-419a-8eef-04b2c1728cb6",
   "metadata": {},
   "source": [
    "### Q2. Why threading module used? Write the use of the following functions:\n",
    "(1) activeCount()\n",
    "(2) currentThread()\n",
    "(3) enumerate()"
   ]
  },
  {
   "cell_type": "markdown",
   "id": "f1cd2f25-9130-46d3-b849-f84d38ec63ef",
   "metadata": {},
   "source": [
    "The threading module in Python is used for creating and managing threads, enabling concurrent execution of tasks in a Python program. Threading allows you to perform multiple operations concurrently, which can be particularly useful in scenarios where tasks can be executed independently or when you want to improve the responsiveness of your program. The threading module provides a high-level interface for working with threads, making it easier to implement multithreading in your Python applications.\n",
    "\n",
    "Now, let's explore the use of the following functions from the threading module:\n",
    "\n",
    "### 1. active_count():\n",
    "\n",
    "Use: This function returns the number of active threads in the current Python process.\n",
    "Purpose: It helps you determine how many threads are currently running or active in your program. This can be useful for monitoring the number of threads and ensuring that you don't create an excessive number of threads, which could potentially impact performance.\n",
    "\n",
    "### 2. current_thread():\n",
    "\n",
    "Use: This function returns the current thread object that is executing the function or code.\n",
    "Purpose: It allows you to get a reference to the thread object associated with the currently executing code. This can be helpful when you need to access or manipulate the current thread within your code.\n",
    "\n",
    "### 3. enumerate():\n",
    "\n",
    "Use: This function returns a list of all active Thread objects in the current Python process.\n",
    "Purpose: It is used to get a list of all active threads running in your program. By calling enumerate(), you can obtain a list of Thread objects, allowing you to access information and perform operations on each thread, such as joining, pausing, or terminating.\n",
    "\n",
    "### Here's an example of how you can use these functions:"
   ]
  },
  {
   "cell_type": "code",
   "execution_count": 1,
   "id": "90090608-3295-4ea4-8add-cab5110879ac",
   "metadata": {},
   "outputs": [
    {
     "name": "stdout",
     "output_type": "stream",
     "text": [
      "Number of active threads: 8\n",
      "Thread Thread 1 is running.\n",
      "Thread Thread 2 is running.\n",
      "Thread Thread 1 is done.\n",
      "Thread Thread 2 is done.\n",
      "All threads are done.\n"
     ]
    }
   ],
   "source": [
    "import threading\n",
    "import time\n",
    "\n",
    "def worker():\n",
    "    print(f\"Thread {threading.current_thread().name} is running.\")\n",
    "    time.sleep(2)\n",
    "    print(f\"Thread {threading.current_thread().name} is done.\")\n",
    "\n",
    "def main():\n",
    "    print(f\"Number of active threads: {threading.active_count()}\")\n",
    "\n",
    "    thread1 = threading.Thread(target=worker, name=\"Thread 1\")\n",
    "    thread2 = threading.Thread(target=worker, name=\"Thread 2\")\n",
    "\n",
    "    thread1.start()\n",
    "    thread2.start()\n",
    "\n",
    "    thread1.join()\n",
    "    thread2.join()\n",
    "\n",
    "    print(\"All threads are done.\")\n",
    "\n",
    "if __name__ == \"__main__\":\n",
    "    main()\n"
   ]
  },
  {
   "cell_type": "code",
   "execution_count": 2,
   "id": "f2bf8cae-b783-45da-8d40-c03c2f76aae4",
   "metadata": {},
   "outputs": [
    {
     "name": "stdout",
     "output_type": "stream",
     "text": [
      "Failed to download file3.txt.\n",
      "Failed to download file1.txt.\n",
      "Failed to download file2.txt.\n",
      "All downloads completed in 1.13 seconds.\n"
     ]
    }
   ],
   "source": [
    "import threading\n",
    "import requests\n",
    "import time\n",
    "\n",
    "def download_file(url, filename):\n",
    "    response = requests.get(url)\n",
    "    if response.status_code == 200:\n",
    "        with open(filename, 'wb') as f:\n",
    "            f.write(response.content)\n",
    "        print(f\"Downloaded {filename} successfully.\")\n",
    "    else:\n",
    "        print(f\"Failed to download {filename}.\")\n",
    "\n",
    "def main():\n",
    "    urls = [\n",
    "        \"https://example.com/file1.txt\",\n",
    "        \"https://example.com/file2.txt\",\n",
    "        \"https://example.com/file3.txt\"\n",
    "    ]\n",
    "\n",
    "    start_time = time.time()\n",
    "    threads = []\n",
    "\n",
    "    for i, url in enumerate(urls):\n",
    "        filename = f\"file{i+1}.txt\"\n",
    "        thread = threading.Thread(target=download_file, args=(url, filename))\n",
    "        thread.start()\n",
    "        threads.append(thread)\n",
    "\n",
    "    # Wait for all threads to complete\n",
    "    for thread in threads:\n",
    "        thread.join()\n",
    "\n",
    "    end_time = time.time()\n",
    "    print(f\"All downloads completed in {end_time - start_time:.2f} seconds.\")\n",
    "\n",
    "if __name__ == \"__main__\":\n",
    "    main()\n"
   ]
  },
  {
   "cell_type": "markdown",
   "id": "0c79ff19-3f10-4ec4-900a-6ba09727ee28",
   "metadata": {},
   "source": [
    "### Q3. Explain the following functions\n",
    "1.run()\n",
    "2.start()\n",
    "3.join()\n",
    "4.isAlive()"
   ]
  },
  {
   "cell_type": "markdown",
   "id": "40a22007-b199-4159-a60f-30f76495b5bb",
   "metadata": {},
   "source": [
    "### 1. run() method:\n",
    "\n",
    "The run() method is not directly related to the threading module. It is an overridden method that can be implemented in a custom thread class to define the actions that the thread will perform when started. The run() method is automatically called when you use the start() method to start the thread's execution.\n",
    "\n",
    "### 2. start() method:\n",
    "\n",
    "The start() method is used to start the execution of a thread by creating a new thread of control and calling the run() method of the thread. The run() method defines the behavior of the thread, and the start() method initializes and runs the thread in parallel with the main program.\n",
    "When start() is called, the thread's run() method will be executed concurrently with the main program or other threads. You should never call the run() method directly; always use start() to create a new thread and run it.\n",
    "\n",
    "### 3. join() method:\n",
    "\n",
    "The join() method is used to wait for a thread to complete its execution. When you call join() on a thread object, the main program will pause until that thread has finished executing. This allows you to ensure that certain operations in the main program happen only after the specified thread has completed its task.\n",
    "It's a way to synchronize threads. If you don't call join() on a thread and the main program finishes execution, any non-daemon threads that haven't finished will be terminated abruptly.\n",
    "\n",
    "### 4. isAlive() method:\n",
    "\n",
    "The isAlive() method is used to check whether a thread is still alive or has completed its execution. It returns True if the thread is currently running or has not started yet, and False if the thread has completed its execution or has been terminated.\n",
    "You can use isAlive() to check the status of a thread and decide whether to wait for it to finish or take other actions based on its current state.\n",
    "\n",
    "\n",
    "### Here's a simple example demonstrating the use of start(), join(), and isAlive():"
   ]
  },
  {
   "cell_type": "code",
   "execution_count": 5,
   "id": "829e7ee3-60a9-4c54-8a02-1dfc5cfc36da",
   "metadata": {},
   "outputs": [
    {
     "name": "stdout",
     "output_type": "stream",
     "text": [
      "Worker thread is starting...\n",
      "Main thread is waiting for the worker thread to complete.\n",
      "Worker thread is done.\n",
      "Worker thread has finished its task.\n"
     ]
    }
   ],
   "source": [
    "import threading\n",
    "import time\n",
    "\n",
    "def worker():\n",
    "    print(\"Worker thread is starting...\")\n",
    "    time.sleep(3)\n",
    "    print(\"Worker thread is done.\")\n",
    "\n",
    "def main():\n",
    "    thread = threading.Thread(target=worker)\n",
    "    thread.start()\n",
    "\n",
    "    print(\"Main thread is waiting for the worker thread to complete.\")\n",
    "    thread.join()\n",
    "\n",
    "    if thread.is_alive():\n",
    "        print(\"Worker thread is still running.\")\n",
    "    else:\n",
    "        print(\"Worker thread has finished its task.\")\n",
    "\n",
    "if __name__ == \"__main__\":\n",
    "    main()\n"
   ]
  },
  {
   "cell_type": "markdown",
   "id": "9d0d8ca4-53a4-407a-9cf5-a82121a7ecc8",
   "metadata": {},
   "source": [
    "### Q4. Write a python program to create two threads. Thread one must print the list of squares and thread two must print the list of cubes."
   ]
  },
  {
   "cell_type": "code",
   "execution_count": 7,
   "id": "4097ab4e-6029-47c6-8b5a-10db5d6727fa",
   "metadata": {},
   "outputs": [
    {
     "name": "stdout",
     "output_type": "stream",
     "text": [
      "Squares: [121, 484, 3025, 9801, 14641]\n",
      "Cubes: [1331, 10648, 166375, 970299, 1771561]\n",
      "Main thread is done.\n"
     ]
    }
   ],
   "source": [
    "import threading\n",
    "\n",
    "def list1_squares (numbers):\n",
    "    squares = [num ** 2 for num in numbers]\n",
    "    print(f\"Squares: {squares}\")\n",
    "\n",
    "def list2_cubes(numbers):\n",
    "    cubes = [num ** 3 for num in numbers]\n",
    "    print(f\"Cubes: {cubes}\")\n",
    "\n",
    "def main():\n",
    "    numbers = [11,22,55,99,121]\n",
    "\n",
    "    thread1 = threading.Thread(target=list1_squares, args=(numbers,))\n",
    "    thread2 = threading.Thread(target=list2_cubes, args=(numbers,))\n",
    "\n",
    "    thread1.start()\n",
    "    thread2.start()\n",
    "\n",
    "    thread1.join()\n",
    "    thread2.join()\n",
    "\n",
    "    print(\"Main thread is done.\")\n",
    "\n",
    "if __name__ == \"__main__\":\n",
    "    main()\n"
   ]
  },
  {
   "cell_type": "markdown",
   "id": "543973f7-fdc2-4b6e-851c-a372a72416fc",
   "metadata": {},
   "source": [
    "### Q5. State advantages and disadvantages of multithreading."
   ]
  },
  {
   "cell_type": "markdown",
   "id": "97c99fbe-51e0-499e-9d34-be59ce396fef",
   "metadata": {},
   "source": [
    "### Advantages of Multithreading:\n",
    "\n",
    "## Improved Performance:\n",
    "Multithreading can lead to improved performance, especially in multi-core processors, as it allows multiple threads to execute simultaneously, maximizing CPU utilization.\n",
    "\n",
    "## Responsiveness:\n",
    "Multithreading can enhance the responsiveness of applications by allowing certain tasks to be performed in the background while the main thread handles user interaction or other critical operations.\n",
    "\n",
    "## Resource Sharing:\n",
    "Threads within the same process can share data and resources easily, which can lead to efficient communication and data exchange between threads.\n",
    "\n",
    "## Parallelism:\n",
    "Multithreading enables concurrent execution of different parts of a program, allowing developers to achieve parallelism for computationally intensive tasks.\n",
    "\n",
    "## Reduced Latency:\n",
    "In applications such as real-time systems and multimedia, multithreading can help reduce latency, ensuring smoother and more responsive performance.\n",
    "\n",
    "#### Disadvantages of Multithreading:\n",
    "\n",
    "### Complexity:\n",
    "Multithreaded programming introduces increased complexity compared to single-threaded programming. Synchronization and coordination between threads can be challenging, leading to potential issues like race conditions and deadlocks.\n",
    "\n",
    "### Bugs and Errors:\n",
    "Due to the increased complexity, multithreaded programs are more prone to bugs and hard-to-detect errors like race conditions, which occur when multiple threads access shared resources simultaneously.\n",
    "\n",
    "### Debugging Difficulty: \n",
    "Identifying and debugging issues in multithreaded programs can be much more challenging than single-threaded ones, making it harder for developers to trace and fix errors.\n",
    "\n",
    "### Resource Contentions: \n",
    "Threads sharing resources may experience contention, causing delays and reduced performance due to frequent locking and unlocking of shared resources.\n",
    "\n",
    "### Overhead:\n",
    "Creating and managing threads incur additional overhead in terms of memory usage and context switching, which might outweigh the benefits gained in some cases.\n",
    "\n",
    "### Portability and Compatibility:\n",
    "Not all operating systems or platforms handle multithreading in the same way, making it challenging to write portable and compatible code across different environments.\n",
    "\n",
    "In conclusion, multithreading offers significant advantages in terms of performance and responsiveness but also introduces complexities and challenges that developers need to carefully consider and manage. It is essential to weigh the benefits against the potential drawbacks when deciding whether to adopt a multithreaded approach in a particular software application."
   ]
  },
  {
   "cell_type": "markdown",
   "id": "bad2fc9e-a9d6-4163-b8dc-4c21f172747c",
   "metadata": {},
   "source": [
    "## Q6  Explain deadlocks and race conditions."
   ]
  },
  {
   "cell_type": "markdown",
   "id": "83017a70-53e5-49c2-bd0e-67ec154cacf6",
   "metadata": {},
   "source": [
    "### Deadlocks:\n",
    "A deadlock is a situation in which two or more threads are unable to proceed with their execution because each thread is waiting for a resource that is held by another thread. In other words, the threads are stuck in a circular dependency, and none of them can release the resources they hold because they are waiting for resources that will not be released.\n",
    "Deadlocks usually occur when the following four conditions are met:\n",
    "\n",
    "#### Mutual Exclusion:\n",
    "Each resource can be held by only one thread at a time.\n",
    "\n",
    "### Hold and Wait:\n",
    "A thread holding at least one resource is waiting to acquire additional resources that are currently held by other threads.\n",
    "\n",
    "### No Preemption:\n",
    "Resources cannot be forcibly taken away from a thread. They can only be released voluntarily.\n",
    "\n",
    "### Circular Wait:\n",
    "There is a circular chain of two or more threads, where each thread is waiting for a resource held by the next thread in the chain.\n",
    "Deadlocks can be difficult to detect and resolve since they may not happen consistently and can depend on the timing and interleaving of thread execution. Proper resource management and careful synchronization techniques are essential to prevent and handle deadlocks effectively.\n",
    "\n",
    "### Race Conditions:\n",
    "A race condition is a situation where the behavior of a program depends on the relative timing or interleaving of multiple threads. It occurs when two or more threads access shared resources or variables simultaneously, and the final outcome of the program depends on which thread completes its operation first.\n",
    "Race conditions lead to unpredictable and erroneous results because the order in which the threads execute can vary between different runs of the program or on different systems. Race conditions are typically unintended and can lead to bugs that are hard to reproduce and debug.\n",
    "\n",
    "Race conditions can occur due to the lack of proper synchronization mechanisms when multiple threads try to read and write shared resources without coordination. Common examples include situations where multiple threads try to update a shared variable or when one thread modifies a data structure while another thread is concurrently iterating over it.\n",
    "\n",
    "To avoid race conditions, developers must use appropriate synchronization techniques, such as locks, mutexes, or atomic operations, to ensure that critical sections of code are executed in a mutually exclusive manner. By synchronizing access to shared resources, developers can prevent data inconsistencies and guarantee predictable behavior in multithreaded applications.\n",
    "\n",
    "In summary, deadlocks and race conditions are two significant challenges in concurrent programming that can lead to unexpected and erroneous behavior in multithreaded applications. Proper synchronization and resource management are crucial for avoiding these issues and ensuring the correct and reliable execution of concurrent programs."
   ]
  },
  {
   "cell_type": "code",
   "execution_count": null,
   "id": "d4f6a76a-30f4-4492-9c14-2a39fa2c5e8c",
   "metadata": {},
   "outputs": [],
   "source": []
  }
 ],
 "metadata": {
  "kernelspec": {
   "display_name": "Python 3 (ipykernel)",
   "language": "python",
   "name": "python3"
  },
  "language_info": {
   "codemirror_mode": {
    "name": "ipython",
    "version": 3
   },
   "file_extension": ".py",
   "mimetype": "text/x-python",
   "name": "python",
   "nbconvert_exporter": "python",
   "pygments_lexer": "ipython3",
   "version": "3.10.8"
  }
 },
 "nbformat": 4,
 "nbformat_minor": 5
}
